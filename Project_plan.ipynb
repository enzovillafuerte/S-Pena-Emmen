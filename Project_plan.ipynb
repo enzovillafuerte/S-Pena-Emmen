{
 "cells": [
  {
   "cell_type": "markdown",
   "id": "9cf97b05-2d30-4cb2-a2db-314b7008da05",
   "metadata": {},
   "source": [
    "1. Mencionar el uso de Analytics en el mundo del fútbol. \n",
    "1.1 Kevin de Bruyne sin agencia de representación.\n",
    "1.2 Scouting - Captación de nuevo talento \n",
    "1.3 Brentford? Moneyball\n",
    "1.4 FC Barcelona youtube video\n",
    "\n",
    "2. Distintos procesos del Analytics.\n",
    "\n",
    "2.1 Descriptive Analytics (Data Analytics), cómo podemos interpretar la data de distintos jugadores.\n",
    "2.1.1 Sergio Peña Stats - Surface Stats (Explicar el activo de los software)\n",
    "2.1.1.1 De acuedo a software X: identificar los strengths del jugador (Ejemplo: passing), recopilar datos \"somewhat\" profundos. Passess progressivos, xA, Passes that lead to a shot. \n",
    "2.1.1.2 Introducción de modelos avanzados que referencian los \"in depth\" stats: xG, xA, xT, xPTS etc.\n",
    "2.1.1.3 *Importante* Explicar como las métricas se siguen desarrollando en base a probabilidad y estadística, AI, etc; y reflexionar acerca de lo importante que es mantenerse actualizado y la ventaja competitiva que supone.\n",
    "2.1.1.4 *Quizá incluir: La idea revolucionaria de implementar un sistema en el fútbol peruano profesional y formativo para facilitar la captación de futbolistas prometedores, usar de ejemplo a equipos que usan el chip al entrenar como Alianza, Cristal, etc*\n",
    "\n",
    "2.2 Predictive Analytics (Data Science), implementación de modelos predictivos (Machine learning, Deep Learning, Inteligencia Artificial).\n",
    "2.2.1 Relación entre Dribbles & Possession con el total xG, luego relación del xG con xPTS"
   ]
  },
  {
   "cell_type": "markdown",
   "id": "219c9ef2-d71f-4d6d-a9c6-992fe3cbfb90",
   "metadata": {},
   "source": [
    "Software Research 1: FotMob.com - https://www.fotmob.com/players/427223/sergio-pena\n",
    "* From here I can retrieve stats from last seasons xG, Dribbles, Total Shots, etc. Unlike FBref.com, this one actually shows xG and Ratings, chances created, etc. So, good to consider. \n",
    "* try to pick Eredivise stats as there are more details.\n",
    "\n",
    "Software Research 2: Soccerment - https://analytics.soccerment.com/en/stats/sergio-pena-1995-09-28?season=2020\n",
    "* Good viz to know the player's strengths related to the average player in his position on the league. \n",
    "* We can see that the most notorious strengths of Peña are: Dribbling, vision, and passing.\n",
    "\n",
    "Software Research 3: Infogol.net - https://www.infogol.net/en/player/sergio-pe%C3%B1a/18487\n",
    "* provides xG and xA\n",
    "\n",
    "Software Research 4: WyScout (for this one I have to be ready to just go)"
   ]
  },
  {
   "cell_type": "markdown",
   "id": "94412c00-eba1-476a-9097-b2420c1e1c0b",
   "metadata": {},
   "source": [
    "Plan A - Analytics processes:\n",
    "\n",
    "2.1 Descriptive Analytics Portion: (Data Gathering & Visualization techniques)\n",
    "\n",
    "Surface Stats -> Goles, Asistencias, Shots, Total passes, Games played, etc.\n",
    "Medium Metrics -> Shots on Target, Chances Created, Attempted and Successful Dribbles, Clearances\n",
    "Advanced/In depth Metrics -> xG, xA, (explain this + some other that may be avaiable) etc\n",
    "\n",
    "Explain: The Importance of a correct interpretation of the data as a Data Analyst, and how we tend to see the medium metrics as most, never getting to the Advanced Metrics.\n",
    "\n",
    "\"A pesar de que no hay muchos software al alcance para el público general que nos permitan analizar más allá del xG y el xA. al tener una capacidad adquisitiva más elevada, los clubes tienen acceso a estar métricas que aún están en desarrollo. Lo importante en este contexto es tener gente que no necesariamente tenga la capacidad de emplear modelos estadisticos y de AI avanzados como para desarrollarlo, sino más que nada en la interpretación de datos. Para esto se necesita una combinación de conocimiento estadístico determinado, y obviamente conocimiento futbolístico innato.\" \"En todo lo relacionado a Data Descriptiva, los software suelen tener las soluciones ideales, el analista de datos debe estar capacitado para analizarlo en base a los objetivos propios: sea para encontrar nuevos talento, analizar el rendimiento estadístico del jugador, la busqueda de optimización del jugador, etc. La INTERPRETACION acá es la palabra clave\".\n",
    "\n",
    "2.2 Predictive Analytics\n",
    "\n",
    "Implementación de modelos predictivos para el entendimiento del posible impacto que pueda tener un jugador para un equipo, desde un punto de vista de Agencia de Representantes.\n",
    "Cabe resaltar que soy ignorante ante el escenario de negociación por el traspaso del jugador.\n",
    "\n",
    "1. Apoyarse en un software para entender las habilidades/fortalezas del jugador.\n",
    "2. Una vez determinadas: Dribbling, Passing, Vision, usarlas en un modelo de machine learning para entender el impacto con respecto a otra variable (en este caso xG)\n",
    "3. Crear una argumentación sólida en base a eso.\n",
    "\n",
    "2.3 Optimization: bla bla bla\n",
    "\n",
    "3. Sugerencias: \n",
    "\n"
   ]
  }
 ],
 "metadata": {
  "kernelspec": {
   "display_name": "Python 3 (ipykernel)",
   "language": "python",
   "name": "python3"
  },
  "language_info": {
   "codemirror_mode": {
    "name": "ipython",
    "version": 3
   },
   "file_extension": ".py",
   "mimetype": "text/x-python",
   "name": "python",
   "nbconvert_exporter": "python",
   "pygments_lexer": "ipython3",
   "version": "3.9.7"
  }
 },
 "nbformat": 4,
 "nbformat_minor": 5
}
